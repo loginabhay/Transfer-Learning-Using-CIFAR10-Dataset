{
 "cells": [
  {
   "cell_type": "code",
   "execution_count": 6,
   "metadata": {},
   "outputs": [],
   "source": [
    "import os,shutil\n",
    "import cv2\n",
    "import pandas as pd\n",
    "import numpy as np"
   ]
  },
  {
   "cell_type": "code",
   "execution_count": 7,
   "metadata": {},
   "outputs": [
    {
     "name": "stdout",
     "output_type": "stream",
     "text": [
      "0          frog\n",
      "1         truck\n",
      "2         truck\n",
      "3          deer\n",
      "4    automobile\n",
      "Name: label, dtype: object\n",
      "   id\n",
      "0   1\n",
      "1   2\n",
      "2   3\n",
      "3   4\n",
      "4   5\n"
     ]
    }
   ],
   "source": [
    "base_dir = r'C:\\Users\\Abhay\\Downloads\\preprocess_data\\train'\n",
    "file = pd.read_csv('trainLabels.csv')\n",
    "labels = file['label']\n",
    "files = file.drop('label',axis = 1)\n",
    "print(labels.head(5))\n",
    "classes = np.unique(labels)\n",
    "print(files.head(5))\n",
    "# for i in range(len(classes)):\n",
    "#     os.mkdir(classes[i])"
   ]
  },
  {
   "cell_type": "code",
   "execution_count": 41,
   "metadata": {},
   "outputs": [],
   "source": [
    "p =  r'C:\\Users\\Abhay\\Downloads\\preprocess_data\\data_final/'\n",
    "\n",
    "for img in os.listdir(base_dir):\n",
    "    s = os.path.basename(img)\n",
    "    s = s.split('.')\n",
    "    s = s[0]\n",
    "    s = int(s)\n",
    "#     print(s)\n",
    "    scr = os.path.join(base_dir,img)\n",
    "    dst = os.path.join(p+labels[s-1],img)\n",
    "    shutil.copy(scr,dst)"
   ]
  },
  {
   "cell_type": "code",
   "execution_count": 8,
   "metadata": {},
   "outputs": [],
   "source": [
    "val = r'D:\\projects\\Transfer Learning using cifar10 dataset\\data_final\\valid'\n",
    "\n",
    "for i in range(len(classes)):\n",
    "    os.mkdir(os.path.join(val,classes[i]))"
   ]
  },
  {
   "cell_type": "code",
   "execution_count": null,
   "metadata": {},
   "outputs": [],
   "source": []
  }
 ],
 "metadata": {
  "kernelspec": {
   "display_name": "Python 3",
   "language": "python",
   "name": "python3"
  },
  "language_info": {
   "codemirror_mode": {
    "name": "ipython",
    "version": 3
   },
   "file_extension": ".py",
   "mimetype": "text/x-python",
   "name": "python",
   "nbconvert_exporter": "python",
   "pygments_lexer": "ipython3",
   "version": "3.6.5"
  }
 },
 "nbformat": 4,
 "nbformat_minor": 2
}
